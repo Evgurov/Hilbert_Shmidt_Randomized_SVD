{
  "nbformat": 4,
  "nbformat_minor": 0,
  "metadata": {
    "colab": {
      "provenance": []
    },
    "kernelspec": {
      "name": "python3",
      "display_name": "Python 3"
    },
    "language_info": {
      "name": "python"
    },
    "widgets": {
      "application/vnd.jupyter.widget-state+json": {
        "d6010674ac294b9fb2330f30679e24af": {
          "model_module": "@jupyter-widgets/controls",
          "model_name": "HBoxModel",
          "model_module_version": "1.5.0",
          "state": {
            "_dom_classes": [],
            "_model_module": "@jupyter-widgets/controls",
            "_model_module_version": "1.5.0",
            "_model_name": "HBoxModel",
            "_view_count": null,
            "_view_module": "@jupyter-widgets/controls",
            "_view_module_version": "1.5.0",
            "_view_name": "HBoxView",
            "box_style": "",
            "children": [
              "IPY_MODEL_26bf123b00a147c184fb1195fbd46ac8",
              "IPY_MODEL_a2f0d023f1f04a90b8c98642ff67598a",
              "IPY_MODEL_3957a08a804245bf9b0564249898f843"
            ],
            "layout": "IPY_MODEL_bb477e3e1e9a45f1a08785d78fe3a252"
          }
        },
        "26bf123b00a147c184fb1195fbd46ac8": {
          "model_module": "@jupyter-widgets/controls",
          "model_name": "HTMLModel",
          "model_module_version": "1.5.0",
          "state": {
            "_dom_classes": [],
            "_model_module": "@jupyter-widgets/controls",
            "_model_module_version": "1.5.0",
            "_model_name": "HTMLModel",
            "_view_count": null,
            "_view_module": "@jupyter-widgets/controls",
            "_view_module_version": "1.5.0",
            "_view_name": "HTMLView",
            "description": "",
            "description_tooltip": null,
            "layout": "IPY_MODEL_989caf95cc5d41e58dd52e8dc987b12f",
            "placeholder": "​",
            "style": "IPY_MODEL_42a679d879a34474ae0d9b6e47048682",
            "value": "100%"
          }
        },
        "a2f0d023f1f04a90b8c98642ff67598a": {
          "model_module": "@jupyter-widgets/controls",
          "model_name": "FloatProgressModel",
          "model_module_version": "1.5.0",
          "state": {
            "_dom_classes": [],
            "_model_module": "@jupyter-widgets/controls",
            "_model_module_version": "1.5.0",
            "_model_name": "FloatProgressModel",
            "_view_count": null,
            "_view_module": "@jupyter-widgets/controls",
            "_view_module_version": "1.5.0",
            "_view_name": "ProgressView",
            "bar_style": "success",
            "description": "",
            "description_tooltip": null,
            "layout": "IPY_MODEL_c6194f93683a499884f95cc3537ffd2b",
            "max": 29,
            "min": 0,
            "orientation": "horizontal",
            "style": "IPY_MODEL_3dead49431bf46e99142827d158eb550",
            "value": 29
          }
        },
        "3957a08a804245bf9b0564249898f843": {
          "model_module": "@jupyter-widgets/controls",
          "model_name": "HTMLModel",
          "model_module_version": "1.5.0",
          "state": {
            "_dom_classes": [],
            "_model_module": "@jupyter-widgets/controls",
            "_model_module_version": "1.5.0",
            "_model_name": "HTMLModel",
            "_view_count": null,
            "_view_module": "@jupyter-widgets/controls",
            "_view_module_version": "1.5.0",
            "_view_name": "HTMLView",
            "description": "",
            "description_tooltip": null,
            "layout": "IPY_MODEL_98edabc016c04a1198b73b1bdfa9de83",
            "placeholder": "​",
            "style": "IPY_MODEL_2fda12888c41436aa345690f84675023",
            "value": " 29/29 [01:23&lt;00:00,  3.05s/it]"
          }
        },
        "bb477e3e1e9a45f1a08785d78fe3a252": {
          "model_module": "@jupyter-widgets/base",
          "model_name": "LayoutModel",
          "model_module_version": "1.2.0",
          "state": {
            "_model_module": "@jupyter-widgets/base",
            "_model_module_version": "1.2.0",
            "_model_name": "LayoutModel",
            "_view_count": null,
            "_view_module": "@jupyter-widgets/base",
            "_view_module_version": "1.2.0",
            "_view_name": "LayoutView",
            "align_content": null,
            "align_items": null,
            "align_self": null,
            "border": null,
            "bottom": null,
            "display": null,
            "flex": null,
            "flex_flow": null,
            "grid_area": null,
            "grid_auto_columns": null,
            "grid_auto_flow": null,
            "grid_auto_rows": null,
            "grid_column": null,
            "grid_gap": null,
            "grid_row": null,
            "grid_template_areas": null,
            "grid_template_columns": null,
            "grid_template_rows": null,
            "height": null,
            "justify_content": null,
            "justify_items": null,
            "left": null,
            "margin": null,
            "max_height": null,
            "max_width": null,
            "min_height": null,
            "min_width": null,
            "object_fit": null,
            "object_position": null,
            "order": null,
            "overflow": null,
            "overflow_x": null,
            "overflow_y": null,
            "padding": null,
            "right": null,
            "top": null,
            "visibility": null,
            "width": null
          }
        },
        "989caf95cc5d41e58dd52e8dc987b12f": {
          "model_module": "@jupyter-widgets/base",
          "model_name": "LayoutModel",
          "model_module_version": "1.2.0",
          "state": {
            "_model_module": "@jupyter-widgets/base",
            "_model_module_version": "1.2.0",
            "_model_name": "LayoutModel",
            "_view_count": null,
            "_view_module": "@jupyter-widgets/base",
            "_view_module_version": "1.2.0",
            "_view_name": "LayoutView",
            "align_content": null,
            "align_items": null,
            "align_self": null,
            "border": null,
            "bottom": null,
            "display": null,
            "flex": null,
            "flex_flow": null,
            "grid_area": null,
            "grid_auto_columns": null,
            "grid_auto_flow": null,
            "grid_auto_rows": null,
            "grid_column": null,
            "grid_gap": null,
            "grid_row": null,
            "grid_template_areas": null,
            "grid_template_columns": null,
            "grid_template_rows": null,
            "height": null,
            "justify_content": null,
            "justify_items": null,
            "left": null,
            "margin": null,
            "max_height": null,
            "max_width": null,
            "min_height": null,
            "min_width": null,
            "object_fit": null,
            "object_position": null,
            "order": null,
            "overflow": null,
            "overflow_x": null,
            "overflow_y": null,
            "padding": null,
            "right": null,
            "top": null,
            "visibility": null,
            "width": null
          }
        },
        "42a679d879a34474ae0d9b6e47048682": {
          "model_module": "@jupyter-widgets/controls",
          "model_name": "DescriptionStyleModel",
          "model_module_version": "1.5.0",
          "state": {
            "_model_module": "@jupyter-widgets/controls",
            "_model_module_version": "1.5.0",
            "_model_name": "DescriptionStyleModel",
            "_view_count": null,
            "_view_module": "@jupyter-widgets/base",
            "_view_module_version": "1.2.0",
            "_view_name": "StyleView",
            "description_width": ""
          }
        },
        "c6194f93683a499884f95cc3537ffd2b": {
          "model_module": "@jupyter-widgets/base",
          "model_name": "LayoutModel",
          "model_module_version": "1.2.0",
          "state": {
            "_model_module": "@jupyter-widgets/base",
            "_model_module_version": "1.2.0",
            "_model_name": "LayoutModel",
            "_view_count": null,
            "_view_module": "@jupyter-widgets/base",
            "_view_module_version": "1.2.0",
            "_view_name": "LayoutView",
            "align_content": null,
            "align_items": null,
            "align_self": null,
            "border": null,
            "bottom": null,
            "display": null,
            "flex": null,
            "flex_flow": null,
            "grid_area": null,
            "grid_auto_columns": null,
            "grid_auto_flow": null,
            "grid_auto_rows": null,
            "grid_column": null,
            "grid_gap": null,
            "grid_row": null,
            "grid_template_areas": null,
            "grid_template_columns": null,
            "grid_template_rows": null,
            "height": null,
            "justify_content": null,
            "justify_items": null,
            "left": null,
            "margin": null,
            "max_height": null,
            "max_width": null,
            "min_height": null,
            "min_width": null,
            "object_fit": null,
            "object_position": null,
            "order": null,
            "overflow": null,
            "overflow_x": null,
            "overflow_y": null,
            "padding": null,
            "right": null,
            "top": null,
            "visibility": null,
            "width": null
          }
        },
        "3dead49431bf46e99142827d158eb550": {
          "model_module": "@jupyter-widgets/controls",
          "model_name": "ProgressStyleModel",
          "model_module_version": "1.5.0",
          "state": {
            "_model_module": "@jupyter-widgets/controls",
            "_model_module_version": "1.5.0",
            "_model_name": "ProgressStyleModel",
            "_view_count": null,
            "_view_module": "@jupyter-widgets/base",
            "_view_module_version": "1.2.0",
            "_view_name": "StyleView",
            "bar_color": null,
            "description_width": ""
          }
        },
        "98edabc016c04a1198b73b1bdfa9de83": {
          "model_module": "@jupyter-widgets/base",
          "model_name": "LayoutModel",
          "model_module_version": "1.2.0",
          "state": {
            "_model_module": "@jupyter-widgets/base",
            "_model_module_version": "1.2.0",
            "_model_name": "LayoutModel",
            "_view_count": null,
            "_view_module": "@jupyter-widgets/base",
            "_view_module_version": "1.2.0",
            "_view_name": "LayoutView",
            "align_content": null,
            "align_items": null,
            "align_self": null,
            "border": null,
            "bottom": null,
            "display": null,
            "flex": null,
            "flex_flow": null,
            "grid_area": null,
            "grid_auto_columns": null,
            "grid_auto_flow": null,
            "grid_auto_rows": null,
            "grid_column": null,
            "grid_gap": null,
            "grid_row": null,
            "grid_template_areas": null,
            "grid_template_columns": null,
            "grid_template_rows": null,
            "height": null,
            "justify_content": null,
            "justify_items": null,
            "left": null,
            "margin": null,
            "max_height": null,
            "max_width": null,
            "min_height": null,
            "min_width": null,
            "object_fit": null,
            "object_position": null,
            "order": null,
            "overflow": null,
            "overflow_x": null,
            "overflow_y": null,
            "padding": null,
            "right": null,
            "top": null,
            "visibility": null,
            "width": null
          }
        },
        "2fda12888c41436aa345690f84675023": {
          "model_module": "@jupyter-widgets/controls",
          "model_name": "DescriptionStyleModel",
          "model_module_version": "1.5.0",
          "state": {
            "_model_module": "@jupyter-widgets/controls",
            "_model_module_version": "1.5.0",
            "_model_name": "DescriptionStyleModel",
            "_view_count": null,
            "_view_module": "@jupyter-widgets/base",
            "_view_module_version": "1.2.0",
            "_view_name": "StyleView",
            "description_width": ""
          }
        }
      }
    }
  },
  "cells": [
    {
      "cell_type": "code",
      "execution_count": 328,
      "metadata": {
        "id": "4pozqBblICga"
      },
      "outputs": [],
      "source": [
        "import numpy as np\n",
        "import scipy.stats as sps\n",
        "import scipy\n",
        "\n",
        "from sklearn.utils.extmath import randomized_svd\n",
        "from tqdm.notebook import tqdm\n",
        "\n",
        "import matplotlib.pyplot as plt\n",
        "%matplotlib inline"
      ]
    },
    {
      "cell_type": "markdown",
      "source": [
        "Let's suppose that the kernel function is the discretized Green's function for the negative Laplace operator $\\mathcal{L}u = -d^2u / dx^2$.\n",
        "\n",
        "For this operator matrix $L$ (with size $N \\times N$) we have eigenvalues $\\lambda_i = \\pi^2 n^2$ and correspondings eigenfunctions $f_i(x) = \\sqrt{2} \\sin(\\pi n x)$. So $Lf_i = \\lambda_i f_i$. \n",
        "\n",
        "Hence, $G(x, y) = \\sum\\limits_{i = 1}^N \\frac{f_i(x) f_i(y)}{\\lambda_i}$ is the Green's function for the negative Laplace operator."
      ],
      "metadata": {
        "id": "Ni9HxU8iqB8S"
      }
    },
    {
      "cell_type": "code",
      "source": [
        "def kernel_func(x, y, N=100):\n",
        "    # let's define the kernel \n",
        "    res = 0\n",
        "    for n in range(1, N + 1):\n",
        "        res += np.sin(np.pi * n * x) * np.sin(np.pi * n * y) * 2 / (np.pi * n) ** 2\n",
        "\n",
        "    return res"
      ],
      "metadata": {
        "id": "RLQXEs1lnpzx"
      },
      "execution_count": 391,
      "outputs": []
    },
    {
      "cell_type": "code",
      "source": [
        "def get_cov_matrix_from_grid(kernel_func, N=10, x_left=0, x_right=1, \n",
        "                             y_left=0, y_right=1):\n",
        "    # create grid\n",
        "    x_grid = np.linspace(x_left, x_right, N)\n",
        "    y_grid = np.linspace(y_left, y_right, N)\n",
        "\n",
        "    x_points, y_points = [curr.ravel() for curr in np.meshgrid(x_grid, y_grid)]\n",
        "\n",
        "    # kernel values on uniform grid [x_left, x_right] x [y_left, y_right]\n",
        "    K = kernel_func(x_points, y_points, N=N).reshape((N, N)) \n",
        "    K += 1e-5 * np.eye(N) # just for stability\n",
        "\n",
        "    return K"
      ],
      "metadata": {
        "id": "RYYFnD3wuphY"
      },
      "execution_count": 392,
      "outputs": []
    },
    {
      "cell_type": "markdown",
      "source": [
        "Sample variables from the normal distribution with constucted kernel:"
      ],
      "metadata": {
        "id": "w7dV6C0Eteg3"
      }
    },
    {
      "cell_type": "code",
      "source": [
        "def get_norm_variables(K, k_size=3):\n",
        "    # K is the symmetric positive definite\n",
        "    assert K.shape[0] == K.shape[1], 'K is not a squared matrix'\n",
        "\n",
        "    N = K.shape[0]\n",
        "   \n",
        "    f = sps.multivariate_normal(mean=np.zeros(K.shape[0]), cov=K).rvs(size=k_size).T\n",
        "    assert f.shape == (N, k_size)\n",
        "\n",
        "    return f"
      ],
      "metadata": {
        "id": "b3X0guGmIF9H"
      },
      "execution_count": 393,
      "outputs": []
    },
    {
      "cell_type": "markdown",
      "source": [
        "Test previous functions:"
      ],
      "metadata": {
        "id": "wkStV9TdtpLR"
      }
    },
    {
      "cell_type": "code",
      "source": [
        "K = get_cov_matrix_from_grid(kernel_func, N=4)\n",
        "f = get_norm_variables(K)\n",
        "\n",
        "# observe results\n",
        "np.linalg.eigvals(K)"
      ],
      "metadata": {
        "id": "5JCN9iaLwofv",
        "colab": {
          "base_uri": "https://localhost:8080/"
        },
        "outputId": "b80c0415-2989-439a-a8b7-314ebc806341"
      },
      "execution_count": 394,
      "outputs": [
        {
          "output_type": "execute_result",
          "data": {
            "text/plain": [
              "array([1.00000000e-05, 3.03973551e-01, 9.49986097e-02, 1.00000000e-05])"
            ]
          },
          "metadata": {},
          "execution_count": 394
        }
      ]
    },
    {
      "cell_type": "markdown",
      "source": [
        "**Randomized SVD**\n",
        "\n",
        "Given an $m × n$ matrix A, a target number k of singular vectors, and an exponent q (say, q = 1 or q = 2), this procedure computes an approximate rank-2k factorization $UΣV^*$, where U and V are orthonormal, and Σ is nonnegative and diagonal. \n",
        "\n",
        "**Stage 1:**\n",
        "\n",
        "1. Generate an n × 2k Gaussian test matrix $\\Omega$.\n",
        "2. Form $Y = (AA*)^qAΩ$ by multiplying alternately with A and A*.\n",
        "3. Construct a matrix Q whose columns form an orthonormal basis for the range of Y .\n",
        "\n",
        "**Stage 2:**\n",
        "\n",
        "4. Form $B = Q^{*}A$\n",
        "5. Compute an SVD of the small matrix: $B = ÜΣV^*$\n",
        "6. Set $U = QÜ$\n",
        "\n",
        "**Note:** The computation of <b>Y</b> in step 2 is vulnerable to round-off errors.\n",
        "When high accuracy is required, we must incorporate an orthonormalization\n",
        "step between each application of <b>A</b> and <b>A*</b>."
      ],
      "metadata": {
        "id": "lU1xxUyD6TvT"
      }
    },
    {
      "cell_type": "code",
      "source": [
        "class random_matrix_generator:\n",
        "    def __init__(self, distr=sps.norm()):\n",
        "        self.distr = distr\n",
        "\n",
        "    def rvs(self, n, k):\n",
        "        return self.distr.rvs(size=(n, 2 * k))\n",
        "\n",
        "\n",
        "class gaussian_matrix_generator:\n",
        "    def __init__(self, kernel_func):\n",
        "        self.kernel_func = kernel_func\n",
        "    \n",
        "    def rvs(self, n, k):\n",
        "        K = get_cov_matrix_from_grid(self.kernel_func, N=n)\n",
        "        f = get_norm_variables(K, 2 * k)\n",
        "\n",
        "        return f\n",
        "\n",
        "def svd(B):  \n",
        "    # scipy is a little bit faster than numpy (but negligible ...) \n",
        "    u, s, vh = scipy.linalg.svd(B, full_matrices=False)\n",
        "    return u, s, vh\n",
        "\n",
        "def random_svd(A, k, q, matrix_generator):\n",
        "    # STAGE 1:\n",
        "    \n",
        "    # generate n x 2k gaussian test matrix Gamma\n",
        "    gamma = matrix_generator.rvs(A.shape[1], k)  #\n",
        "    \n",
        "    # because of round-off errors, we will make second QR-decomposition on each step\n",
        "    Y0 = np.dot(A, gamma)\n",
        "    if q > 0:\n",
        "        for i in range(q):\n",
        "            Y_temporary, _ = np.linalg.qr(np.dot(A.T, Y0))\n",
        "            Q, _ = np.linalg.qr(np.dot(A, Y_temporary))\n",
        "    else:\n",
        "        # Construct a matrix Q whose columns form an orthonormal basis for the range of Y\n",
        "        Q, _ = np.linalg.qr(Y0)    \n",
        "        \n",
        "    # STAGE 2:\n",
        "    \n",
        "    # Form B = Q*A.\n",
        "    B = np.dot(Q.T, A)\n",
        "    \n",
        "    # Compute an SVD of the small matrix: B = ÜΣV*.\n",
        "    U_prime, Epsilon, V_adj = svd(B)\n",
        "    \n",
        "    # Set U = Q * U_prime\n",
        "    U = np.dot(Q, U_prime)\n",
        "    \n",
        "    # Truncate -> Get the Good rank k not 2 * k...\n",
        "    U, Epsilon, V_adj = U[:, :k], Epsilon[:k], V_adj[:k, :]\n",
        "    \n",
        "    return U, Epsilon, V_adj"
      ],
      "metadata": {
        "id": "Dl8vvxF2w2bI"
      },
      "execution_count": 482,
      "outputs": []
    },
    {
      "cell_type": "markdown",
      "source": [
        "Let's make the experiment! We wan't to learn the disсretized Green's function< of the following differential operator: $\\mathcal{L}u = d^2u / dx^2 - C \\cdot \\sin(Kx)\\cdot u$, $x \\in [0, 1]$.\n",
        "\n",
        "We compute this Green's function and obtain that:\n",
        "\n",
        "$$\n",
        "G(x, s) = \\frac{1}{2} \\frac{sin(\\sqrt{C \\cdot \\sin(Ks)} \\cdot (x - s))}{\\sqrt{C \\cdot \\sin(Ks)}}\n",
        "$$\n",
        "\n",
        "Suppose $C = 4$ and $K = \\pi$:"
      ],
      "metadata": {
        "id": "cObLyzC-wGfa"
      }
    },
    {
      "cell_type": "code",
      "source": [
        "C = 4\n",
        "K = np.pi\n",
        "\n",
        "def get_Green_matrix(x, s, C=C, K=K):\n",
        "    return 1/2 * np.sin(np.sqrt(C * np.sin(K * x)) * (x - s)) / np.sqrt(C * np.sin(K * x))\n",
        "\n",
        "x_vals = np.linspace(0.001, 1, 200)\n",
        "\n",
        "ar1, ar2 = [curr.ravel() for curr in np.meshgrid(x_vals, x_vals)]\n",
        "\n",
        "\n",
        "A = get_Green_matrix(ar1, ar2).reshape((200, 200)) + sps.norm().rvs((200, 200))"
      ],
      "metadata": {
        "id": "y8vq-zopd2pe"
      },
      "execution_count": 484,
      "outputs": []
    },
    {
      "cell_type": "code",
      "source": [
        "n_restarts = 5 # average by 5 restarts\n",
        "\n",
        "gaussian_errors = []\n",
        "random_errors = []\n",
        "\n",
        "# number of samples (rank) in Randomized SVD\n",
        "k_values = np.arange(1, 30) \n",
        "\n",
        "for k in tqdm(k_values):\n",
        "    curr_gaussian_errors = []\n",
        "    curr_random_errors = []\n",
        "\n",
        "    for _ in range(n_restarts):\n",
        "        # for gaussian_matrix_generator\n",
        "        U, Epsilon, V_adj = random_svd(A, k=k, q=2, matrix_generator=gaussian_matrix_generator(kernel_func))\n",
        "\n",
        "        A_svd = U @ np.diag(Epsilon) @ V_adj\n",
        "        err = np.linalg.norm(A - A_svd, ord=2) / np.linalg.norm(A, ord=2)\n",
        "        curr_gaussian_errors.append(err)\n",
        "\n",
        "        # for random_matrix_generator\n",
        "        U, Epsilon, V_adj = random_svd(A, k=k, q=2, matrix_generator=random_matrix_generator(sps.norm()))\n",
        "\n",
        "        A_svd = U @ np.diag(Epsilon) @ V_adj\n",
        "        err = np.linalg.norm(A - A_svd, ord=2) / np.linalg.norm(A, ord=2)\n",
        "        curr_random_errors.append(err)\n",
        "\n",
        "    gaussian_errors.append(np.mean(curr_gaussian_errors))\n",
        "    random_errors.append(np.mean(curr_random_errors))"
      ],
      "metadata": {
        "colab": {
          "base_uri": "https://localhost:8080/",
          "height": 49,
          "referenced_widgets": [
            "d6010674ac294b9fb2330f30679e24af",
            "26bf123b00a147c184fb1195fbd46ac8",
            "a2f0d023f1f04a90b8c98642ff67598a",
            "3957a08a804245bf9b0564249898f843",
            "bb477e3e1e9a45f1a08785d78fe3a252",
            "989caf95cc5d41e58dd52e8dc987b12f",
            "42a679d879a34474ae0d9b6e47048682",
            "c6194f93683a499884f95cc3537ffd2b",
            "3dead49431bf46e99142827d158eb550",
            "98edabc016c04a1198b73b1bdfa9de83",
            "2fda12888c41436aa345690f84675023"
          ]
        },
        "id": "BlRtaxmd7oJt",
        "outputId": "c4cbb3a2-dd88-4272-d8bf-43b0bb63bce0"
      },
      "execution_count": 485,
      "outputs": [
        {
          "output_type": "display_data",
          "data": {
            "text/plain": [
              "  0%|          | 0/29 [00:00<?, ?it/s]"
            ],
            "application/vnd.jupyter.widget-view+json": {
              "version_major": 2,
              "version_minor": 0,
              "model_id": "d6010674ac294b9fb2330f30679e24af"
            }
          },
          "metadata": {}
        }
      ]
    },
    {
      "cell_type": "code",
      "source": [
        "plt.figure(figsize=(12, 4))\n",
        "\n",
        "plt.plot(k_values, gaussian_errors, label=r'multivariate gaussian $\\mathcal{N}(0, K)$')\n",
        "plt.plot(k_values, random_errors, label=r'standard gaussian $\\mathcal{N}(0, I)$')\n",
        "\n",
        "plt.title('Comparison different sampling procedures in Randomized SVD', fontsize=18)\n",
        "plt.xlabel('Number of sampled vectors (appr. rank $k$)', fontsize=18)\n",
        "plt.ylabel(r'Relative error $\\frac{||A - A_{svd}||}{||A||} $', fontsize=18)\n",
        "\n",
        "plt.legend( fontsize=16)\n",
        "plt.show()"
      ],
      "metadata": {
        "colab": {
          "base_uri": "https://localhost:8080/",
          "height": 311
        },
        "id": "erOs28aGDEwW",
        "outputId": "e1564078-f02f-4930-c457-c6e16d5d1e89"
      },
      "execution_count": 502,
      "outputs": [
        {
          "output_type": "display_data",
          "data": {
            "text/plain": [
              "<Figure size 864x288 with 1 Axes>"
            ],
            "image/png": "[encoded data removed]"
          },
          "metadata": {
            "needs_background": "light"
          }
        }
      ]
    },
    {
      "cell_type": "markdown",
      "source": [
        "In this experiment we used the discretized Green function of the negative Laplace operator as the covariance matrix $K$. This matrix incorporate some knowledge about diffusion term in the expression $\\mathcal{L}u = d^2u / dx^2 - C \\cdot \\sin(Kx)\\cdot u$, $x \\in [0, 1]$.\n",
        "\n",
        "As wee can see on the graphic above, the usage of non-standard kernel allows us to obtain more precise results in case of $k \\le 15$.\n",
        "\n",
        "So, we make some experiments and obtain that In some cases the usage of non-standard covariance matrices is a powerful tool!\n",
        "\n"
      ],
      "metadata": {
        "id": "fcDvFStN2FM_"
      }
    },
    {
      "cell_type": "markdown",
      "source": [
        "**Operator:**  $\\mathcal{L}u = d^2u / dx^2 - C \\cdot \\sin(Kx)\\cdot u$, where $x \\in [0, 1]$\n",
        "\n",
        "**Estimated matrix:** the Green's function of $\\mathcal{L}$\n",
        "\n",
        "**Kernel $K$** is constructed by the Green's function of $\\mathcal{\\hat{L}}u = -d^2u / dx^2$\n"
      ],
      "metadata": {
        "id": "RJKBQ_BFCi-5"
      }
    }
  ]
}